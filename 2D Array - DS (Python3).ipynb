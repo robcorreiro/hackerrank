{
 "cells": [
  {
   "cell_type": "code",
   "execution_count": 7,
   "metadata": {},
   "outputs": [],
   "source": [
    "example = '''\\\n",
    "1 1 1 0 0 0\n",
    "0 1 0 0 0 0\n",
    "1 1 1 0 0 0\n",
    "0 0 2 4 4 0\n",
    "0 0 0 2 0 0\n",
    "0 0 1 2 4 0'''\n",
    "\n",
    "rows = example.strip().split('\\n')\n",
    "arr = [line.split() for line in rows]"
   ]
  },
  {
   "cell_type": "code",
   "execution_count": 8,
   "metadata": {},
   "outputs": [
    {
     "data": {
      "text/plain": [
       "[['1', '1', '1', '0', '0', '0'],\n",
       " ['0', '1', '0', '0', '0', '0'],\n",
       " ['1', '1', '1', '0', '0', '0'],\n",
       " ['0', '0', '2', '4', '4', '0'],\n",
       " ['0', '0', '0', '2', '0', '0'],\n",
       " ['0', '0', '1', '2', '4', '0']]"
      ]
     },
     "execution_count": 8,
     "metadata": {},
     "output_type": "execute_result"
    }
   ],
   "source": [
    "arr"
   ]
  },
  {
   "cell_type": "code",
   "execution_count": 73,
   "metadata": {
    "collapsed": true
   },
   "outputs": [],
   "source": [
    "class Hourglass(object):\n",
    "    \"\"\"\n",
    "    Given a 6x6 2D Array, We define an hourglass in A \n",
    "    to be a subset of values with indices falling in \n",
    "    this pattern in A's graphical representation:\n",
    "    \n",
    "       0 1 2\n",
    "    0  a b c\n",
    "    1    d\n",
    "    2  e f g\n",
    "    \"\"\"\n",
    "    WIDTH = 3\n",
    "    HEIGHT = 3\n",
    "    \n",
    "    def __init__(self, arr, row, col):\n",
    "        '''    \n",
    "        a = arr[row][col]\n",
    "        b = arr[row][col + 1]\n",
    "        c = arr[row][col + 2]\n",
    "        d = arr[row + 1][col]\n",
    "        e = arr[row + 2][col]\n",
    "        f = arr[row + 2][col + 1]\n",
    "        g = arr[row + 2][col + 2]\n",
    "        '''\n",
    "        assert row + (Hourglass.HEIGHT - 1) < len(arr)\n",
    "        assert col + (Hourglass.WIDTH - 1) < len(arr[0])\n",
    "\n",
    "        self.values = []\n",
    "        for num in range(Hourglass.WIDTH):\n",
    "            self.values.append(int(arr[row][col + num]))  # Top Row\n",
    "            self.values.append(int(arr[row + 2][col + num]))  # Bottom Row\n",
    "        self.values.append(int(arr[row + 1][col + 1]))  # Mid Row\n",
    "    \n",
    "    def __repr__(self):\n",
    "        return f'<Hourglass values={self.values}>'\n",
    "    \n",
    "    def __iter__(self):\n",
    "        return iter(self.values)"
   ]
  },
  {
   "cell_type": "code",
   "execution_count": 74,
   "metadata": {
    "collapsed": true
   },
   "outputs": [],
   "source": [
    "class Board(object):\n",
    "    WIDTH = 6\n",
    "    HEIGHT = 6\n",
    "    \n",
    "    def __init__(self, input_string='', arr=None):\n",
    "        if not arr:  # assume input string exists\n",
    "            rows = example.strip().split('\\n')\n",
    "            self.arr = [line.split() for line in rows]\n",
    "        else:\n",
    "            self.arr = arr\n",
    "    \n",
    "    def __repr__(self):\n",
    "        return f'<Board arr={self.arr}>'\n",
    "    \n",
    "    @property\n",
    "    def hourglasses(self):\n",
    "        hourglasses = []\n",
    "        for row in range(Board.WIDTH):\n",
    "            if row + Hourglass.HEIGHT > Board.HEIGHT:\n",
    "                break\n",
    "            for col in range(Board.HEIGHT):\n",
    "                if col + Hourglass.WIDTH > Board.WIDTH:\n",
    "                    break\n",
    "                hourglasses.append(Hourglass(arr, row, col))\n",
    "        return hourglasses"
   ]
  },
  {
   "cell_type": "code",
   "execution_count": 78,
   "metadata": {},
   "outputs": [
    {
     "name": "stdout",
     "output_type": "stream",
     "text": [
      "19\n"
     ]
    }
   ],
   "source": [
    "A = Board(arr)\n",
    "hourglass_sums = [sum(hourglass) for hourglass in A.hourglasses]\n",
    "print(max(hourglass_sums))"
   ]
  },
  {
   "cell_type": "code",
   "execution_count": 76,
   "metadata": {},
   "outputs": [
    {
     "data": {
      "text/plain": [
       "[<Hourglass values=[1, 1, 1, 1, 1, 1, 1]>,\n",
       " <Hourglass values=[1, 1, 1, 1, 0, 0, 0]>,\n",
       " <Hourglass values=[1, 1, 0, 0, 0, 0, 0]>,\n",
       " <Hourglass values=[0, 0, 0, 0, 0, 0, 0]>,\n",
       " <Hourglass values=[0, 0, 1, 0, 0, 2, 1]>,\n",
       " <Hourglass values=[1, 0, 0, 2, 0, 4, 1]>,\n",
       " <Hourglass values=[0, 2, 0, 4, 0, 4, 0]>,\n",
       " <Hourglass values=[0, 4, 0, 4, 0, 0, 0]>,\n",
       " <Hourglass values=[1, 0, 1, 0, 1, 0, 0]>,\n",
       " <Hourglass values=[1, 0, 1, 0, 0, 2, 2]>,\n",
       " <Hourglass values=[1, 0, 0, 2, 0, 0, 4]>,\n",
       " <Hourglass values=[0, 2, 0, 0, 0, 0, 4]>,\n",
       " <Hourglass values=[0, 0, 0, 0, 2, 1, 0]>,\n",
       " <Hourglass values=[0, 0, 2, 1, 4, 2, 0]>,\n",
       " <Hourglass values=[2, 1, 4, 2, 4, 4, 2]>,\n",
       " <Hourglass values=[4, 2, 4, 4, 0, 0, 0]>]"
      ]
     },
     "execution_count": 76,
     "metadata": {},
     "output_type": "execute_result"
    }
   ],
   "source": [
    "A.hourglasses"
   ]
  },
  {
   "cell_type": "code",
   "execution_count": null,
   "metadata": {
    "collapsed": true
   },
   "outputs": [],
   "source": []
  }
 ],
 "metadata": {
  "kernelspec": {
   "display_name": "Python 3",
   "language": "python",
   "name": "python3"
  },
  "language_info": {
   "codemirror_mode": {
    "name": "ipython",
    "version": 3
   },
   "file_extension": ".py",
   "mimetype": "text/x-python",
   "name": "python",
   "nbconvert_exporter": "python",
   "pygments_lexer": "ipython3",
   "version": "3.6.1"
  }
 },
 "nbformat": 4,
 "nbformat_minor": 2
}
